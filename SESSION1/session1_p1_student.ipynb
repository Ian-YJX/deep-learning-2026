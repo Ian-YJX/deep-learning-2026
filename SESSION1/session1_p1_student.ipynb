{
  "cells": [
    {
      "cell_type": "markdown",
      "metadata": {
        "id": "bXD2y872fh6S"
      },
      "source": [
        "<a href=\"https://colab.research.google.com/github/ntu-dl-bootcamp/deep-learning-2026/blob/main/SESSION1/session1_p1_student.ipynb\" target=\"_blank\"><img alt=\"Open In Colab\" src=\"https://colab.research.google.com/assets/colab-badge.svg\"/></a>"
      ]
    },
    {
      "cell_type": "markdown",
      "metadata": {
        "id": "NeCqaRQ1o-uT"
      },
      "source": [
        "# 1. Python Basics\n",
        "\n",
        "Python is an open-source programming language known for its simplicity and readibility. It is quite versatile, and can be used for both scripting applications and standalone programs. It is a popular choice for almost all data analysis and machine learning projects.\n",
        "\n",
        "In this section, we will give a very brief overview of some fundamental Python concepts."
      ]
    },
    {
      "cell_type": "markdown",
      "metadata": {
        "id": "s4XYfFZODAVC"
      },
      "source": [
        "## 1.1 The Very Basics: Variables, Syntax, and Data Types"
      ]
    },
    {
      "cell_type": "markdown",
      "metadata": {
        "id": "U73eypFwrwBo"
      },
      "source": [
        "Like any other programming language, Python can be used as a calculator.\n",
        "\n",
        "To test this, just position your cursor in the below cell and hit Ctrl+Enter (Command+Enter on Mac). Alternatively, you can click the play button on the left gutter of the cell."
      ]
    },
    {
      "cell_type": "code",
      "execution_count": null,
      "metadata": {
        "id": "DrNHncZRr53q"
      },
      "outputs": [],
      "source": [
        "2 + 3"
      ]
    },
    {
      "cell_type": "markdown",
      "metadata": {
        "id": "F-UXJyU1s3wi"
      },
      "source": [
        "A standard programming practice is to store our values in variables."
      ]
    },
    {
      "cell_type": "code",
      "execution_count": null,
      "metadata": {
        "id": "qNdKaFGFtdNb"
      },
      "outputs": [],
      "source": [
        "x = 12\n",
        "y = 3\n",
        "x + y"
      ]
    },
    {
      "cell_type": "markdown",
      "metadata": {
        "id": "58X18WQpuM74"
      },
      "source": [
        "In the above cell, numbers `12` and `3` are stored in variables `x` and `y` respectively. Each variable is automatically assigned a type. In this case, both `x` and `y` are integers (`int`).\n",
        "\n",
        "Below is a list of some of the basic data types in Python:\n",
        "\n",
        "* `int`: an integer, like `123`.\n",
        "* `float`: a floating-point number, like `1.23`.\n",
        "* `str`: a string, like `\"Hello, world!\"`.\n",
        "* `bool`: a boolean value, like `True` or `False`.\n",
        "\n",
        "\n"
      ]
    },
    {
      "cell_type": "markdown",
      "metadata": {
        "id": "Wzi5QZkLxLAh"
      },
      "source": [
        "You can use the `type()` function to get the data type of a variable."
      ]
    },
    {
      "cell_type": "code",
      "execution_count": null,
      "metadata": {
        "id": "iihPZE1GxbBm"
      },
      "outputs": [],
      "source": [
        "name = \"Alice\"\n",
        "type(name)"
      ]
    },
    {
      "cell_type": "markdown",
      "metadata": {
        "id": "OcIqTS-Q0cdg"
      },
      "source": [
        "Python also allows you to convert from one data type to another. This can sometimes help resolve value errors when working with real datasets."
      ]
    },
    {
      "cell_type": "code",
      "execution_count": null,
      "metadata": {
        "id": "zr9fLTDd0_MX"
      },
      "outputs": [],
      "source": [
        "z = 10\n",
        "float(10)"
      ]
    },
    {
      "cell_type": "markdown",
      "metadata": {
        "id": "jgfraiT-zLRK"
      },
      "source": [
        "Finally, you can use the `print` function to write the value of a variable to the screen."
      ]
    },
    {
      "cell_type": "code",
      "execution_count": null,
      "metadata": {
        "id": "1wek5WUzz70R"
      },
      "outputs": [],
      "source": [
        "print(x)\n",
        "print(y)\n",
        "print(x+y, x-y, x*y, x/y, y**2)\n",
        "print(f\"My name is {name}\")"
      ]
    },
    {
      "cell_type": "markdown",
      "metadata": {
        "id": "uMPxF_BGGz2B"
      },
      "source": [
        "## 1.2 Lists and Dictionaries\n",
        "\n",
        "Apart from the basic built-in data types introduced in the previous sub-section, there are a few more interesting data types in Python.\n",
        "\n",
        "Let us look at lists and dictionaries,\n",
        "\n",
        "the two data types that you will almost always encounter while working on any machine learning project\n",
        "\n",
        "Lists are one of 4 built-in data types in Python used to store collections of data, the other 3 are Tuple, Set, and Dictionary, all with different qualities and usage."
      ]
    },
    {
      "cell_type": "markdown",
      "metadata": {
        "id": "Gwnig1TkaEzf"
      },
      "source": [
        "**Lists**\n",
        "\n",
        "A list is an ordered collection of elements. Here is how you can create a list in python\n"
      ]
    },
    {
      "cell_type": "code",
      "execution_count": null,
      "metadata": {
        "id": "nR8zdhtFymhP"
      },
      "outputs": [],
      "source": [
        "# Creating a list\n",
        "my_list = [1,2,3,4,5]\n",
        "type(my_list)"
      ]
    },
    {
      "cell_type": "markdown",
      "metadata": {
        "id": "-kmn9bEDdx6X"
      },
      "source": [
        "Every item in a list is assigned an index. Keep in mind that indices in Python always start with 0. In other words, the first item in a list has index 0, the second item has index 1, and so on.\n",
        "\n",
        "You can access any item in a list by its index using square brackets `[]`. For instance:\n",
        "\n"
      ]
    },
    {
      "cell_type": "code",
      "execution_count": null,
      "metadata": {
        "id": "jnZ7NUEefA10"
      },
      "outputs": [],
      "source": [
        "# Accessing list items\n",
        "first_element = my_list[0]\n",
        "last_element = my_list[-1]\n",
        "\n",
        "print(\"Original List:\", my_list)\n",
        "print(\"First Element:\", first_element)\n",
        "print(\"Last Element:\", last_element)\n"
      ]
    },
    {
      "cell_type": "markdown",
      "metadata": {
        "id": "t80OOc7wfg3B"
      },
      "source": [
        "Apart from accessing single elements in a list, it is also possible to access any sub-part of a list. You can achieve this using a techinque called *list slicing*."
      ]
    },
    {
      "cell_type": "code",
      "execution_count": null,
      "metadata": {
        "id": "kBnkAzz0f95M"
      },
      "outputs": [],
      "source": [
        "# Slicing\n",
        "subset = my_list[1:4]\n",
        "subset"
      ]
    },
    {
      "cell_type": "markdown",
      "metadata": {
        "id": "pa6DYJ_QgJPg"
      },
      "source": [
        "Lists are changable. This means that you can change, add or remove items from a list after it has been created.\n",
        "\n"
      ]
    },
    {
      "cell_type": "code",
      "execution_count": null,
      "metadata": {
        "id": "4HQTllAVm0tP"
      },
      "outputs": [],
      "source": [
        "# Modifying elements\n",
        "my_list[2] = 10\n",
        "my_list"
      ]
    },
    {
      "cell_type": "markdown",
      "metadata": {
        "id": "GZoHAsELnXv_"
      },
      "source": [
        "Now there are several ways to add elements to a list. First, you can add an element at a specified index"
      ]
    },
    {
      "cell_type": "code",
      "execution_count": null,
      "metadata": {
        "id": "FIbaPVkKnnpK"
      },
      "outputs": [],
      "source": [
        "my_list.insert(2, 100)\n",
        "my_list"
      ]
    },
    {
      "cell_type": "markdown",
      "metadata": {
        "id": "s3Jq3Gy0nzHR"
      },
      "source": [
        "Second, you can append an element at the end of a list"
      ]
    },
    {
      "cell_type": "code",
      "execution_count": null,
      "metadata": {
        "id": "mm2-xiwKn5qd"
      },
      "outputs": [],
      "source": [
        "# Appending elements\n",
        "my_list.append(6)\n",
        "my_list"
      ]
    },
    {
      "cell_type": "markdown",
      "metadata": {
        "id": "Via9ZCVOn_TO"
      },
      "source": [
        "Third, you can extend a list by merging it with another list."
      ]
    },
    {
      "cell_type": "code",
      "execution_count": null,
      "metadata": {
        "id": "wK0Suku1oGyq"
      },
      "outputs": [],
      "source": [
        "# Extending with another list\n",
        "another_list = [7, 8, 9]\n",
        "my_list.extend(another_list)\n",
        "my_list"
      ]
    },
    {
      "cell_type": "markdown",
      "metadata": {
        "id": "yzpiKyyCoQNR"
      },
      "source": [
        "There are also three different methods to remove an element from a list.\n"
      ]
    },
    {
      "cell_type": "markdown",
      "metadata": {
        "id": "PD2BJV6Mom7p"
      },
      "source": [
        "The `remove()` method removes the first matching value, not a specific index."
      ]
    },
    {
      "cell_type": "code",
      "execution_count": null,
      "metadata": {
        "id": "EOXzvorwpUWb"
      },
      "outputs": [],
      "source": [
        "a = [11, 1, 1 , 2, 3]\n",
        "a.remove(1)\n",
        "a"
      ]
    },
    {
      "cell_type": "markdown",
      "metadata": {
        "id": "rizJd53Zo7Kw"
      },
      "source": [
        "The `del` statement removes the item at a specific index."
      ]
    },
    {
      "cell_type": "code",
      "execution_count": null,
      "metadata": {
        "id": "xO_qfIA1pU7h"
      },
      "outputs": [],
      "source": [
        "a = [11, 1, 1 , 2, 3]\n",
        "del a[3]\n",
        "a"
      ]
    },
    {
      "cell_type": "markdown",
      "metadata": {
        "id": "HViLO2xXo7fF"
      },
      "source": [
        "The `pop()` method removes the item at a specific index and returns it."
      ]
    },
    {
      "cell_type": "code",
      "execution_count": null,
      "metadata": {
        "id": "Y_StRD2xpVzv"
      },
      "outputs": [],
      "source": [
        "a = [11, 1, 1 , 2, 3]\n",
        "a.pop(3)"
      ]
    },
    {
      "cell_type": "markdown",
      "metadata": {
        "id": "aDrQHF3mp82I"
      },
      "source": [
        "There are a few other list operations you should probably keep in mind."
      ]
    },
    {
      "cell_type": "markdown",
      "metadata": {
        "id": "I7YZIdZ8qJxR"
      },
      "source": [
        "Finding the index of an element"
      ]
    },
    {
      "cell_type": "code",
      "execution_count": null,
      "metadata": {
        "id": "2AE-W4c7qKQQ"
      },
      "outputs": [],
      "source": [
        "animals = [\"cat\", \"dog\", \"antler\", \"cobra\", \"mouse\"]\n",
        "animals.index(\"cobra\")"
      ]
    },
    {
      "cell_type": "markdown",
      "metadata": {
        "id": "N9l1jbqSqK2H"
      },
      "source": [
        "Checking if an element is in the list\n"
      ]
    },
    {
      "cell_type": "code",
      "execution_count": null,
      "metadata": {
        "id": "jIzqQdXNqLxk"
      },
      "outputs": [],
      "source": [
        "is_present = \"tiger\" in animals\n",
        "print(\"Is tiger present in the list?\", is_present)\n"
      ]
    },
    {
      "cell_type": "markdown",
      "metadata": {
        "id": "OKjOaclMqMPR"
      },
      "source": [
        "Reversing the list"
      ]
    },
    {
      "cell_type": "code",
      "execution_count": null,
      "metadata": {
        "id": "7IDJDDapqMtD"
      },
      "outputs": [],
      "source": [
        "my_list = [12, 45, 256, 42, 90]\n",
        "my_list.reverse()\n",
        "my_list"
      ]
    },
    {
      "cell_type": "markdown",
      "metadata": {
        "id": "K_dl3iwOrINE"
      },
      "source": [
        "Sorting the list"
      ]
    },
    {
      "cell_type": "code",
      "execution_count": null,
      "metadata": {
        "id": "v4sN5BlLF-fd"
      },
      "outputs": [],
      "source": [
        "my_list.sort()\n",
        "my_list"
      ]
    },
    {
      "cell_type": "markdown",
      "metadata": {
        "id": "IdAYlb9frqGb"
      },
      "source": [
        "**Dictionaries**\n",
        "\n",
        "Python also allows for an efficient hash table structure called dictionary.\n",
        "\n",
        "You can write the contents of a dictionary as a series of key:value pairs within braces `{}`, e.g. `dict = {key1:value1, key2:value2, ... }`. The \"empty dictionary\" is just an empty pair of curly braces `{}`.\n",
        "\n",
        "Typically, strings, numbers, and tuples work as keys, and any type can be a value."
      ]
    },
    {
      "cell_type": "code",
      "execution_count": null,
      "metadata": {
        "id": "N58igIkwuep2"
      },
      "outputs": [],
      "source": [
        "my_dict = {}\n",
        "my_dict['a'] = 'alpha'\n",
        "my_dict['g'] = 'gamma'\n",
        "my_dict['o'] = 'omega'\n",
        "\n",
        "print(my_dict)\n",
        "print(type(my_dict))"
      ]
    },
    {
      "cell_type": "markdown",
      "metadata": {
        "id": "O01-Ys-bvVOz"
      },
      "source": [
        "You can perform simple lookups in a dictionary."
      ]
    },
    {
      "cell_type": "code",
      "execution_count": null,
      "metadata": {
        "id": "074JFOEgvU9n"
      },
      "outputs": [],
      "source": [
        "my_dict['a']"
      ]
    },
    {
      "cell_type": "markdown",
      "metadata": {
        "id": "8ppHSMA2vTrS"
      },
      "source": [
        "You can also change the value of any key in a dictionary, for example"
      ]
    },
    {
      "cell_type": "code",
      "execution_count": null,
      "metadata": {
        "id": "-2cfLbwTvTYi"
      },
      "outputs": [],
      "source": [
        "my_dict['a'] = 1\n",
        "my_dict"
      ]
    },
    {
      "cell_type": "markdown",
      "metadata": {
        "id": "H84DF7FXvSg4"
      },
      "source": [
        "You can use the methods `keys()` and `values()` to return lists of the keys or values explicitly.\n",
        "\n",
        "There's also an `items()` method which returns a list of (key, value) tuples which is the most efficient way to examine all the key value data in the dictionary."
      ]
    },
    {
      "cell_type": "code",
      "execution_count": null,
      "metadata": {
        "id": "V4yQZ5Z_wnv_"
      },
      "outputs": [],
      "source": [
        "print(my_dict.keys())\n",
        "print(my_dict.values())\n",
        "print(my_dict.items())"
      ]
    },
    {
      "cell_type": "markdown",
      "metadata": {
        "id": "OthtEMgZxE3j"
      },
      "source": [
        "## 1.3 Control Structures: `for` loops and `if/else` statements\n"
      ]
    },
    {
      "cell_type": "markdown",
      "metadata": {
        "id": "I0LQQW9_xNAY"
      },
      "source": [
        "**The `for` loop**\n",
        "\n",
        "You can use loops to execute a command repeatedly. The syntax for a loop is as follows"
      ]
    },
    {
      "cell_type": "code",
      "execution_count": null,
      "metadata": {
        "id": "vkgK4Q7I5bfS"
      },
      "outputs": [],
      "source": [
        "for i in [0, 1, 2, 3, 4]:\n",
        "    print('Hello world, the value of i is', i)"
      ]
    },
    {
      "cell_type": "markdown",
      "metadata": {
        "id": "60F_Abcs5bVM"
      },
      "source": [
        "In the above example, we run the `for` loop on five elements in the list `[0,1,2,3,4]`.\n",
        "\n",
        "\n",
        "However, it is rather inconvenient if you have to specify a list to loop through when the list is very long. For example, if you want to do something 1000 times, you don't want to type a list of values from 0 up to 1000. Instead, Python has a convenient function called `range`. Let us see how it can be used for the above example"
      ]
    },
    {
      "cell_type": "code",
      "execution_count": null,
      "metadata": {
        "id": "wmbq8xXm5bIn"
      },
      "outputs": [],
      "source": [
        "for i in range(5):\n",
        "    print('Hello world, the value of i is', i)"
      ]
    },
    {
      "cell_type": "markdown",
      "metadata": {
        "id": "qkaH7Lbx5a_Z"
      },
      "source": [
        "**The `if/else` statement**\n",
        "\n",
        "Become familiar with the syntax of `if/else` statements with the following example."
      ]
    },
    {
      "cell_type": "code",
      "execution_count": null,
      "metadata": {
        "id": "q7BlvFq45a1A"
      },
      "outputs": [],
      "source": [
        "a = 4\n",
        "if a < 3:\n",
        "    print('a is smaller than 3')\n",
        "else:\n",
        "    print('a is not smaller than 3')"
      ]
    },
    {
      "cell_type": "markdown",
      "metadata": {
        "id": "rUSCUTo5xPJo"
      },
      "source": [
        "## 1.4 List Comprehensions\n"
      ]
    },
    {
      "cell_type": "markdown",
      "metadata": {
        "id": "pxU6unzaWrAo"
      },
      "source": [
        "Let us try to create a list of squares of first 10 non-negative integers"
      ]
    },
    {
      "cell_type": "code",
      "execution_count": null,
      "metadata": {
        "id": "gXP8D0NjWrkk"
      },
      "outputs": [],
      "source": [
        "squares = []\n",
        "for i in range(10):\n",
        "  squares.append(i**2)\n",
        "squares"
      ]
    },
    {
      "cell_type": "markdown",
      "metadata": {
        "id": "7HBUq-vqWtMy"
      },
      "source": [
        "Interestingly, Python provides a way to perform the above operation in just one line of code. This can be done using list comprehensions, like"
      ]
    },
    {
      "cell_type": "code",
      "execution_count": null,
      "metadata": {
        "id": "Ea9Qi_iKWtDg"
      },
      "outputs": [],
      "source": [
        "squares_new = [i**2 for i in range(10)]\n",
        "squares_new"
      ]
    },
    {
      "cell_type": "markdown",
      "metadata": {
        "id": "0qEzf5y9Ws4b"
      },
      "source": [
        "Now suppose we only want a list of squares of numbers that are divisible by 3."
      ]
    },
    {
      "cell_type": "code",
      "execution_count": null,
      "metadata": {
        "id": "wLnBptseWstf"
      },
      "outputs": [],
      "source": [
        "squares_div_3 = [i**2 for i in range(10) if i%3==0]\n",
        "squares_div_3"
      ]
    },
    {
      "cell_type": "markdown",
      "metadata": {
        "id": "O25kL_WbN0XT"
      },
      "source": [
        "## 1.5 Functions and Classes in Python"
      ]
    },
    {
      "cell_type": "markdown",
      "metadata": {
        "id": "fPYwflcwdHiK"
      },
      "source": [
        "Functions are an essential part of any programming language. In the previous sections, we have already used two in-built python functions `len()` and `range()`.\n",
        "\n",
        "But you can also define your own functions using the `def` command. After `def`, you write the name of the function, and then you write the input arguments of the function in the parenthesis. Then, you add a colon. From the next line onwards, you may add one or several lines of codes that will form the basis of your function. Finally, note that your function should also have an output. For this, you can add `return` in the last line of your function, followed by whatever you want to return. If you do not want to return anything, you can skip the `return` statement.\n",
        "\n",
        "Now let us try to define a quadratic function of the form $ax^2 + bx + c$, where $x$ is the input variable, and $a=3$, $b=2$, $c=1$ are the fixed parameters."
      ]
    },
    {
      "cell_type": "code",
      "execution_count": null,
      "metadata": {
        "id": "k_cgRE5FOzfo"
      },
      "outputs": [],
      "source": [
        "def quad_func(x):\n",
        "  a = 3\n",
        "  b = 2\n",
        "  c = 1\n",
        "  y = a*x**2 + b*x + c\n",
        "  return y"
      ]
    },
    {
      "cell_type": "markdown",
      "metadata": {
        "id": "w4PolfMxdLXs"
      },
      "source": [
        "Let us test the above function with $x=1$ and $x=2$ as inputs. Make sure that the outputs are indeed correct."
      ]
    },
    {
      "cell_type": "code",
      "execution_count": null,
      "metadata": {
        "id": "goPR-XvPdLNr"
      },
      "outputs": [],
      "source": [
        "print(quad_func(1))\n",
        "print(quad_func(2))"
      ]
    },
    {
      "cell_type": "markdown",
      "metadata": {
        "id": "qqkWVEvbdKzx"
      },
      "source": [
        "Notice that `a`, `b` and `c` are fixed parameters that uniquely define our quadratic function. Now if we want to define a general quadratic function, where the parameters can take any real value, we can simply assign `a`, `b`, and `c` as additional arguments to our function."
      ]
    },
    {
      "cell_type": "code",
      "execution_count": null,
      "metadata": {
        "id": "mgJ_Kv57dKqI"
      },
      "outputs": [],
      "source": [
        "def gen_quad_func(x, a, b, c):\n",
        "  return a*x**2 + b*x + c\n",
        "\n",
        "gen_quad_func(x=2, a=3, b=2, c=1)"
      ]
    },
    {
      "cell_type": "markdown",
      "metadata": {
        "id": "C9mkR8GBdKfx"
      },
      "source": [
        "There are two types of variables that can be defined in a function.\n",
        "\n",
        "First, we have the variables passed into the function through the arguments list. For example, in our function `quad_func`, the input variable is `x`, whereas in `gen_quad_func`, we have 4 input variables `x`, `a`, `b` and `c`.\n",
        "\n",
        "Second, we have variables that are defined during the execution of the function itself. For example, `quad_func` has four local variables `a`, `b`, `c` and `y`, whereas `gen_quad_func` has non local variables.\n",
        "\n",
        "Additionally, we also have a third type of variable, known as global variable, which is defined outside a function, but is not passed into the function through the arguments list. A good coding practice is to pass variables to a function when they are needed *inside* a function, rather than letting Python find the variable *outside* the function. This can lead to fewer coding errors and may even help you debug your code efficiently."
      ]
    },
    {
      "cell_type": "markdown",
      "metadata": {
        "id": "i9WL6xNnjDkH"
      },
      "source": [
        "**A bit about Keyword Arguments**\n",
        "\n",
        "Now suppose in the `gen_quad_func` function, we want to fix default values for arguments `a`, `b` and `c`. This way, even if we do not assign input values for these arguments while calling the function, it can still run with the default values. Such arguments are known as keyword arguments.\n",
        "\n",
        "You will routinely encounter keyword arguments when dealing with functions from Python pacakges such as numpy, pandas scikit-learn, PyTorch, etc."
      ]
    },
    {
      "cell_type": "code",
      "execution_count": null,
      "metadata": {
        "id": "dQjUZAqPdKWN"
      },
      "outputs": [],
      "source": [
        "def gen_quad_func(x, a=3, b=2, c=1):\n",
        "  return a*x**2 + b*x + c\n",
        "\n",
        "gen_quad_func(x=2)"
      ]
    },
    {
      "cell_type": "markdown",
      "metadata": {
        "id": "uDigvQ8Gfh6t"
      },
      "source": [
        "**Classes**\n",
        "\n",
        "We can also create classes in Python. Here is an example of a class that represents a Person. A class can contain data in the form of attributes as well as functions in the form of methods."
      ]
    },
    {
      "cell_type": "code",
      "execution_count": null,
      "metadata": {
        "id": "4JoEKLEEfh6t"
      },
      "outputs": [],
      "source": [
        "class Person:\n",
        "    def __init__(self, name, age):\n",
        "        self.name = name\n",
        "        self.age = age\n",
        "\n",
        "    def greet(self):\n",
        "        print(f\"Hello, my name is {self.name} and I'm {self.age} years old.\", end = \" \")\n",
        "\n",
        "person = Person(\"John\", 25)\n",
        "person.greet()"
      ]
    },
    {
      "cell_type": "markdown",
      "metadata": {
        "id": "IozZ9DJEkrm7"
      },
      "source": [
        "**QUICK NOTE:** Python is dynamic programming language. So both variable types and functions can change during runtime.\n",
        "\n",
        "Now that we have seen some basic Python data-structures and commands, let us try to put these concepts into practice using a couple of **hands-on exercises**."
      ]
    },
    {
      "cell_type": "markdown",
      "metadata": {
        "id": "GhmVMaBH5Y37"
      },
      "source": [
        "## 1.6 Hands-On Exercise: Python Basics\n"
      ]
    },
    {
      "cell_type": "markdown",
      "metadata": {
        "id": "jbZXn6ORH3WD"
      },
      "source": [
        "### Exercise 1\n",
        "\n",
        "Use list comprehension to create two lists\n",
        "*   `lst_1`: first 10 multiples of 2\n",
        "*   `lst_2` first 10 multiples of 3"
      ]
    },
    {
      "cell_type": "code",
      "execution_count": null,
      "metadata": {
        "id": "k-GjdQLfaB_h"
      },
      "outputs": [],
      "source": [
        "raise NotImplementedError(\"Write your answer here\")\n",
        "lst_1 = ... # Write your answer here\n",
        "lst_2 = ... # Write your answer here\n",
        "print(lst_1)\n",
        "print(lst_2)"
      ]
    },
    {
      "cell_type": "markdown",
      "metadata": {
        "id": "NpbiUmZSaC9m"
      },
      "source": [
        "Now make use of for loops and if statement to count the number of common multiples of 2 and 3. Try assign this count to the `count` variable\n",
        "\n"
      ]
    },
    {
      "cell_type": "code",
      "execution_count": null,
      "metadata": {
        "id": "eEj6a-oWKh3G"
      },
      "outputs": [],
      "source": [
        "count = 0\n",
        "\"\"\"\n",
        "Write your code below\n",
        "\"\"\"\n",
        "raise NotImplementedError(\"Write your answer here\")\n",
        "\n",
        "count"
      ]
    },
    {
      "cell_type": "markdown",
      "metadata": {
        "id": "UfK9FOCHbMpm"
      },
      "source": [
        "Can you get the above count using list comprehension?\n",
        "\n",
        "**Hint**: Use list comprehension to create a list `lst_common` of common multiples, and then use the in-built `len()` function to get the length of this list."
      ]
    },
    {
      "cell_type": "code",
      "execution_count": null,
      "metadata": {
        "id": "-uZh7-K4bNI3"
      },
      "outputs": [],
      "source": [
        "raise NotImplementedError(\"Write your answer here\")\n",
        "lst_common = ... # Your answer here\n",
        "len(lst_common)"
      ]
    },
    {
      "cell_type": "markdown",
      "metadata": {
        "id": "2XbdxvjHOSX1"
      },
      "source": [
        "### Exercise 2\n",
        "\n",
        "Implement the following function:\n",
        "\n",
        "$f(x) = \\cos(x)$ if $x<0$\n",
        "\n",
        "$f(x) = \\exp(-x)$ otherwise\n",
        "\n",
        "Call the above function `my_func`.\n",
        "\n",
        "**Hint:** To compute the cosine and exponential values, you can use relevant functions from the NumPy package, `np.cos()` and `np.exp()`. We have already imported the NumPy package for you.\n",
        "\n",
        "What does the funcion return for $x=1$? (If you write your function correctly, it should give you the value $0.368$."
      ]
    },
    {
      "cell_type": "code",
      "execution_count": 31,
      "metadata": {
        "colab": {
          "base_uri": "https://localhost:8080/"
        },
        "id": "J8x0fXs8z4Ca",
        "outputId": "32d07c43-013d-4213-8405-0f255aca8db4"
      },
      "outputs": [
        {
          "output_type": "execute_result",
          "data": {
            "text/plain": [
              "np.float64(0.36787944117144233)"
            ]
          },
          "metadata": {},
          "execution_count": 31
        }
      ],
      "source": [
        "import numpy as np\n",
        "\n",
        "def my_func(x):\n",
        "  if x<0:\n",
        "    return np.cos(x)\n",
        "  else:\n",
        "    return np.exp(-x)\n",
        "  # \"\"\"\n",
        "  # Implement your function here\n",
        "  # \"\"\"\n",
        "  # raise NotImplementedError(\"Write your answer here\")\n",
        "\n",
        "my_func(1)"
      ]
    },
    {
      "cell_type": "markdown",
      "metadata": {
        "id": "oqbkDB8Wfh6t"
      },
      "source": [
        "### Exercise 3\n",
        "\n",
        "Recall the class `Person` that we created earlier, that prints a greeting given the name and age of a person.\n",
        "\n",
        "Interestingly, Classes can also inherit from other Classes. In the below cell, we have created a new Class `Student` that inherits from `Person`. Note the syntax carefully.\n",
        "\n",
        "Add a new attribute `major` to the `Student` class and print a new greeting in the `greet()` method."
      ]
    },
    {
      "cell_type": "code",
      "execution_count": null,
      "metadata": {
        "id": "d4M0I3j6fh6t"
      },
      "outputs": [],
      "source": [
        "# TODO Solution remove\n",
        "class Student(Person):\n",
        "    def __init__(self, name, age, major):\n",
        "        super().__init__(name, age)\n",
        "        raise NotImplementedError(\"Write your answer here\")\n",
        "        # Your code here\n",
        "\n",
        "\n",
        "    def greet(self):\n",
        "        super().greet()\n",
        "        raise NotImplementedError(\"Write your answer here\")\n",
        "        # Your code here\n",
        "\n",
        "student = Student(\"Alice\", 20, \"Computer Science\")\n",
        "student.greet()"
      ]
    },
    {
      "cell_type": "markdown",
      "metadata": {
        "id": "UoAuDhdekOku"
      },
      "source": [
        "If your code is correct, the output of the above cell should be.\n",
        "\n",
        "`\"Hello, my name is Alice and I'm 20 years old. I'm a student majoring in Computer Science.\"`"
      ]
    },
    {
      "cell_type": "markdown",
      "metadata": {
        "id": "sHgrDxyo5ag_"
      },
      "source": [
        "# 2. NumPy and Matplotlib Basics\n",
        "\n"
      ]
    },
    {
      "cell_type": "markdown",
      "metadata": {
        "id": "7mnTNP3E5eHx"
      },
      "source": [
        "## 2.1 Introduction to Arrays\n",
        "\n",
        "A sequence of values of the same type is called an array (for example an array of integers or floats).\n",
        "\n",
        "In the last hands-on exercise, we used the package NumPy to compute the cosine and exponential functions. However, NumPy is typically used to work with arrays.\n",
        "\n",
        "In the last hand-on exercise, we already imported NumPy and called it `np`, so that any function in the NumPy package can be called as `np.function`\n",
        "\n"
      ]
    },
    {
      "cell_type": "markdown",
      "metadata": {
        "id": "-SlP8dNr6h6e"
      },
      "source": [
        "### Creating an array\n",
        "\n",
        "There are many ways to create arrays. For example, you can enter the individual elements of an array"
      ]
    },
    {
      "cell_type": "code",
      "execution_count": 2,
      "metadata": {
        "colab": {
          "base_uri": "https://localhost:8080/"
        },
        "id": "EUvaKkG6yEAR",
        "outputId": "156d0b9d-44af-464f-ac88-c7f1871703a3"
      },
      "outputs": [
        {
          "output_type": "execute_result",
          "data": {
            "text/plain": [
              "array([ 1,  7,  2, 12])"
            ]
          },
          "metadata": {},
          "execution_count": 2
        }
      ],
      "source": [
        "import numpy as np\n",
        "np.array([1, 7, 2, 12])"
      ]
    },
    {
      "cell_type": "markdown",
      "metadata": {
        "id": "p-itVdn7yBPK"
      },
      "source": [
        "We can also create an array of a specified shape filled with the value 1 using `np.ones(shape)`. Similarly, we can use `np.zeros(shape)` to create an arrays filled with the value 0"
      ]
    },
    {
      "cell_type": "code",
      "execution_count": 3,
      "metadata": {
        "colab": {
          "base_uri": "https://localhost:8080/"
        },
        "id": "pOn6HniLyBGJ",
        "outputId": "02e9d123-8f6d-45e9-8e56-a76f3dc77a4b"
      },
      "outputs": [
        {
          "output_type": "stream",
          "name": "stdout",
          "text": [
            "[1. 1. 1. 1. 1. 1. 1. 1. 1. 1.]\n",
            "[0. 0. 0.]\n"
          ]
        }
      ],
      "source": [
        "print(np.ones(10))\n",
        "print(np.zeros(3))"
      ]
    },
    {
      "cell_type": "markdown",
      "metadata": {
        "id": "lI2eM_DeyA8K"
      },
      "source": [
        "We also have the `np.arange(start, end, step)` function, which creates an array starting at `start`, taking steps equal to `step` and stopping before it reaches `end`.\n",
        "\n",
        "Note that `step` is a keyword argument with default value 1 (recall keyword arguments from Section 1.5 on Python functions).\n",
        "\n",
        "Further, if you only specify only one input value, you get a sequence starting at 0 and incrementing by 1 until the specified value is reached (but note that it stops before it reaches that value!!)."
      ]
    },
    {
      "cell_type": "code",
      "execution_count": 4,
      "metadata": {
        "colab": {
          "base_uri": "https://localhost:8080/"
        },
        "id": "VPYmf6cJyAzC",
        "outputId": "397edb1e-102e-4d7c-9329-7b7635cb8462"
      },
      "outputs": [
        {
          "output_type": "stream",
          "name": "stdout",
          "text": [
            "[1 2 3 4 5 6]\n",
            "[0 1 2 3 4]\n"
          ]
        }
      ],
      "source": [
        "print(np.arange(1, 7)) # Takes default steps of 1 and doesn't include 7\n",
        "print(np.arange(5)) # Starts at 0 end ends at 4, giving 5 numbers"
      ]
    },
    {
      "cell_type": "markdown",
      "metadata": {
        "id": "QHtHLwxMyAo4"
      },
      "source": [
        "What if we want to create an array of 5 equally spaced points between `-4` and `4`? In this case, we use the `np.linspace` function. We can also assign arrays to a variable."
      ]
    },
    {
      "cell_type": "code",
      "execution_count": 5,
      "metadata": {
        "colab": {
          "base_uri": "https://localhost:8080/"
        },
        "id": "U3wicqT7yAfn",
        "outputId": "21db87d9-efbd-4e39-9bfd-c1b88d131673"
      },
      "outputs": [
        {
          "output_type": "execute_result",
          "data": {
            "text/plain": [
              "array([-4., -2.,  0.,  2.,  4.])"
            ]
          },
          "metadata": {},
          "execution_count": 5
        }
      ],
      "source": [
        "x = np.linspace(-4, 4, 5)\n",
        "x"
      ]
    },
    {
      "cell_type": "markdown",
      "metadata": {
        "id": "4x0Cihde6Wik"
      },
      "source": [
        "### Two-dimensional arrays\n",
        "\n",
        "Arrays can have arbitrary dimensions.\n",
        "\n",
        "Many machine learning problems make use of two-dimensional arrays.\n",
        "\n",
        "Similar to their one-dimensional counterparts, two-dimensional arrays can be created in many ways. Let us go through a few of them now.\n",
        "\n"
      ]
    },
    {
      "cell_type": "code",
      "execution_count": 6,
      "metadata": {
        "colab": {
          "base_uri": "https://localhost:8080/"
        },
        "id": "Z_GfTOtT-i-r",
        "outputId": "c2774416-be12-40bc-b576-bcce96bfd797"
      },
      "outputs": [
        {
          "output_type": "execute_result",
          "data": {
            "text/plain": [
              "array([[1., 1., 1., 1.],\n",
              "       [1., 1., 1., 1.],\n",
              "       [1., 1., 1., 1.]])"
            ]
          },
          "metadata": {},
          "execution_count": 6
        }
      ],
      "source": [
        "x = np.ones((3, 4)) # An array with 3 rows and 4 columns\n",
        "x"
      ]
    },
    {
      "cell_type": "markdown",
      "metadata": {
        "id": "sAXK-bjc-cQf"
      },
      "source": [
        "Note that the number of rows and columns must be a tuple, so they need to be between parentheses. Check out the official python documentation to learn more about tuples https://docs.python.org/3/tutorial/datastructures.html#tuples-and-sequences . The functions expect only one input argument for the shape of the array, which may be either one number or a tuple of multiple numbers."
      ]
    },
    {
      "cell_type": "markdown",
      "metadata": {
        "id": "NFYwmERU7qzm"
      },
      "source": [
        "You can also create a two-dimensional array by explicitly specifying all the values.\n",
        "\n"
      ]
    },
    {
      "cell_type": "code",
      "execution_count": 7,
      "metadata": {
        "colab": {
          "base_uri": "https://localhost:8080/"
        },
        "id": "CfSJ8ytK6WYx",
        "outputId": "89adcf4b-a989-4560-f3d4-e41d9c55dd8e"
      },
      "outputs": [
        {
          "output_type": "execute_result",
          "data": {
            "text/plain": [
              "array([[4, 2, 3, 2],\n",
              "       [2, 4, 3, 1],\n",
              "       [0, 4, 1, 3]])"
            ]
          },
          "metadata": {},
          "execution_count": 7
        }
      ],
      "source": [
        "x = np.array([[4, 2, 3, 2],\n",
        "              [2, 4, 3, 1],\n",
        "              [0, 4, 1, 3]])\n",
        "x"
      ]
    },
    {
      "cell_type": "markdown",
      "metadata": {
        "id": "3QiyWVQJ6WO2"
      },
      "source": [
        "In the above example, we pass a list of lists to the `np.array` function, where each list corresponds to a row of the array. Entering the rows in separate lines makes it easier to enter the array, but it is not required."
      ]
    },
    {
      "cell_type": "markdown",
      "metadata": {
        "id": "1b9j6-ar9YPu"
      },
      "source": [
        "Next, let us try to change the shape of our array by using the `reshape` function.\n",
        "\n",
        "While reshaping the array, we need to make sure that the total number of entries doesn't change."
      ]
    },
    {
      "cell_type": "code",
      "execution_count": 8,
      "metadata": {
        "colab": {
          "base_uri": "https://localhost:8080/"
        },
        "id": "2Ydix-7b6WFp",
        "outputId": "d0566024-91b9-49a9-9fb9-48aae29a645f"
      },
      "outputs": [
        {
          "output_type": "stream",
          "name": "stdout",
          "text": [
            "[[4 2 3 2 2 4]\n",
            " [3 1 0 4 1 3]]\n",
            "\n",
            "[[4 2 3 2 2 4 3 1 0 4 1 3]]\n"
          ]
        }
      ],
      "source": [
        "print(np.reshape(x, (2, 6)))  # 2 rows, 6 columns\n",
        "print()\n",
        "print(np.reshape(x, (1, 12)))  # 1 row, 12 columns"
      ]
    },
    {
      "cell_type": "markdown",
      "metadata": {
        "id": "RGlKSRxo6V8T"
      },
      "source": [
        "The index of a two-dimensional array is specified with two values, first the row index, then the column index."
      ]
    },
    {
      "cell_type": "code",
      "execution_count": 9,
      "metadata": {
        "colab": {
          "base_uri": "https://localhost:8080/"
        },
        "id": "mUZ3KsWj6Vyv",
        "outputId": "a2ab0150-0398-432b-ceb2-faed4d89415c"
      },
      "outputs": [
        {
          "output_type": "execute_result",
          "data": {
            "text/plain": [
              "array([[100.,   0.,   0.,   0.,   0.,   0.,   0.,   0.],\n",
              "       [  0.,   0.,   0.,   0., 200., 200., 200., 200.],\n",
              "       [  0.,   0.,   0.,   0.,   0., 400., 400., 400.]])"
            ]
          },
          "metadata": {},
          "execution_count": 9
        }
      ],
      "source": [
        "x = np.zeros((3, 8))\n",
        "x[0, 0] = 100\n",
        "x[1, 4:] = 200  # Row with index 1, columns starting with 4 to the end\n",
        "x[2, -1:4:-1] = 400  # Row with index 2, columns counting back from the end with steps of 1 and stop before reaching index 4\n",
        "\n",
        "x"
      ]
    },
    {
      "cell_type": "markdown",
      "metadata": {
        "id": "suJR0x67-Ozj"
      },
      "source": [
        "### Using conditions on arrays\n",
        "\n",
        "Similar to basic data types such as `int`, `float` or `str`, you can perform comparison statements on arrays.\n",
        "\n",
        "Doing so will return an array of booleans (True and False values) for each value in the array. For example,"
      ]
    },
    {
      "cell_type": "code",
      "execution_count": 10,
      "metadata": {
        "colab": {
          "base_uri": "https://localhost:8080/"
        },
        "id": "ErnkW_OJ6Vgc",
        "outputId": "20c6bf9b-c674-4096-b1f8-f54f30e7e7ab"
      },
      "outputs": [
        {
          "output_type": "stream",
          "name": "stdout",
          "text": [
            "[0 1 2 3 4]\n",
            "[ True  True  True False False]\n"
          ]
        }
      ],
      "source": [
        "data = np.arange(5)\n",
        "print(data)\n",
        "print(data < 3)"
      ]
    },
    {
      "cell_type": "markdown",
      "metadata": {
        "id": "VXSsOAWk6VWi"
      },
      "source": [
        "The statement `data < 3` returns an array of type Boolean that has the same length as the array `data` and for each item in the array it is either `True` or `False`.\n",
        "\n",
        "Interestingly, you can use such an array of Boolean values to filter your original array. For example,"
      ]
    },
    {
      "cell_type": "code",
      "execution_count": 11,
      "metadata": {
        "colab": {
          "base_uri": "https://localhost:8080/"
        },
        "id": "-XV_GHBN6VMo",
        "outputId": "31dc63e9-b122-4b5c-bba9-5f3ba2059c30"
      },
      "outputs": [
        {
          "output_type": "execute_result",
          "data": {
            "text/plain": [
              "array([0, 1, 3])"
            ]
          },
          "metadata": {},
          "execution_count": 11
        }
      ],
      "source": [
        "data[[True, True, False, True, False]]"
      ]
    },
    {
      "cell_type": "markdown",
      "metadata": {
        "id": "U-8PuoiyCg8F"
      },
      "source": [
        "When the indices of an array are specified with a boolean array, only the values of the array where the boolean array is True are selected.\n",
        "\n",
        "This is a very powerful feature offered by NumPy, and you will find yourself using similar operations when dealing with large datasets during your deep learning journey.\n",
        "\n",
        "In our example, if you want to get all values of our `data` array that are less than 3 you can do the following"
      ]
    },
    {
      "cell_type": "code",
      "execution_count": 12,
      "metadata": {
        "colab": {
          "base_uri": "https://localhost:8080/"
        },
        "id": "gj52QxONDCmh",
        "outputId": "7ae2a097-8759-4e07-dd1b-2f17503c7e95"
      },
      "outputs": [
        {
          "output_type": "execute_result",
          "data": {
            "text/plain": [
              "array([0, 1, 2])"
            ]
          },
          "metadata": {},
          "execution_count": 12
        }
      ],
      "source": [
        "data[data<3]"
      ]
    },
    {
      "cell_type": "markdown",
      "metadata": {
        "id": "7REbq9XkyAWJ"
      },
      "source": [
        "### Hands-on exercise\n",
        "\n",
        "Create an array `arr` of zeros with length 20. Change the first 5 values to 10. Change the next 10 values to a sequence starting at 12 and increasing with steps of 2 to 30 (do this with one command). Set the final 5 values to 30."
      ]
    },
    {
      "cell_type": "code",
      "execution_count": 19,
      "metadata": {
        "colab": {
          "base_uri": "https://localhost:8080/"
        },
        "id": "MHHQAQiEyANS",
        "outputId": "3a691629-14a7-424d-f6af-a6a060929c60"
      },
      "outputs": [
        {
          "output_type": "execute_result",
          "data": {
            "text/plain": [
              "array([10., 10., 10., 10., 10., 12., 14., 16., 18., 20., 22., 24., 26.,\n",
              "       28., 30., 30., 30., 30., 30., 30.])"
            ]
          },
          "metadata": {},
          "execution_count": 19
        }
      ],
      "source": [
        "# \"\"\"\n",
        "# Your answer here\n",
        "# \"\"\"\n",
        "# raise NotImplementedError(\"Write your answer here\")\n",
        "# arr = ... # Your answer here\n",
        "arr=np.zeros(20)\n",
        "arr[0:5]=10\n",
        "arr[5:15]=np.linspace(12,30,10)\n",
        "# arr[i for i in range(5,15)]=2*(i-5)+12\n",
        "arr[-5:]=30\n",
        "arr"
      ]
    },
    {
      "cell_type": "markdown",
      "metadata": {
        "id": "FbGid41S5fCT"
      },
      "source": [
        "## 2.2 Making Simple Plots\n",
        "\n",
        "Let us now try to plot the values of the array `arr` on the y-axis vs. the corresponding indices on the x-axis.\n",
        "\n",
        "For this purpose, we will use a standard Python graphics package called `matplotlib`\n",
        "First, let us import the plotting part of `matplotlib` and call it `plt`."
      ]
    },
    {
      "cell_type": "code",
      "execution_count": 20,
      "metadata": {
        "id": "ukzD-LtRGR0F"
      },
      "outputs": [],
      "source": [
        "import matplotlib.pyplot as plt"
      ]
    },
    {
      "cell_type": "markdown",
      "metadata": {
        "id": "WnAbndqVGWJv"
      },
      "source": [
        "Let us now make the actual plot."
      ]
    },
    {
      "cell_type": "code",
      "execution_count": 21,
      "metadata": {
        "colab": {
          "base_uri": "https://localhost:8080/",
          "height": 447
        },
        "id": "x6JzM60gGmPH",
        "outputId": "b8c98e80-2cd5-40b5-dbda-dc8dd01c1f79"
      },
      "outputs": [
        {
          "output_type": "execute_result",
          "data": {
            "text/plain": [
              "[<matplotlib.lines.Line2D at 0x7dc52d813170>]"
            ]
          },
          "metadata": {},
          "execution_count": 21
        },
        {
          "output_type": "display_data",
          "data": {
            "text/plain": [
              "<Figure size 640x480 with 1 Axes>"
            ],
            "image/png": "[encoded data removed]"
          },
          "metadata": {}
        }
      ],
      "source": [
        "plt.plot(arr)"
      ]
    },
    {
      "cell_type": "markdown",
      "metadata": {
        "id": "FlT8sW4pG73u"
      },
      "source": [
        "## Bonus: Vectorizing a function\n",
        "\n",
        "Recall the function `my_func` that you create in Exercise 2 of Python Basics.\n",
        "\n",
        "$f(x) = \\cos(x)$ if $x<0$\n",
        "\n",
        "$f(x) = \\exp(-x)$ otherwise\n",
        "\n",
        "Let us print the outputs of certain $x$ values."
      ]
    },
    {
      "cell_type": "code",
      "execution_count": 26,
      "metadata": {
        "colab": {
          "base_uri": "https://localhost:8080/"
        },
        "id": "f31OxJ9CKWUq",
        "outputId": "d59e5640-1811-4e9e-d2e9-af0a797e6bbd"
      },
      "outputs": [
        {
          "output_type": "execute_result",
          "data": {
            "text/plain": [
              "(np.float64(1.0),\n",
              " np.float64(0.5403023058681398),\n",
              " np.float64(2.718281828459045),\n",
              " np.float64(1.6487212707001282))"
            ]
          },
          "metadata": {},
          "execution_count": 26
        }
      ],
      "source": [
        "my_func(0), my_func(-1), my_func(1), my_func(0.5)"
      ]
    },
    {
      "cell_type": "markdown",
      "metadata": {
        "id": "YFpaAY0HKfvR"
      },
      "source": [
        "Now suppose we want to get outputs for 100 values of $x$ between -6 and 6. That is,"
      ]
    },
    {
      "cell_type": "code",
      "execution_count": 27,
      "metadata": {
        "id": "JnW4ofhuKgUw"
      },
      "outputs": [],
      "source": [
        "x_vals = np.linspace(-6,6,100)"
      ]
    },
    {
      "cell_type": "markdown",
      "metadata": {
        "id": "V4007hFlK6xg"
      },
      "source": [
        "What would happen if you use `x_vals` as an input to `my_func`? Will you get an error? Let's try it out."
      ]
    },
    {
      "cell_type": "code",
      "execution_count": 28,
      "metadata": {
        "id": "YPJJou6xLTwJ",
        "outputId": "591f862f-fa39-438d-89f9-4f611b9c65c0",
        "colab": {
          "base_uri": "https://localhost:8080/",
          "height": 280
        }
      },
      "outputs": [
        {
          "output_type": "error",
          "ename": "ValueError",
          "evalue": "The truth value of an array with more than one element is ambiguous. Use a.any() or a.all()",
          "traceback": [
            "\u001b[0;31m---------------------------------------------------------------------------\u001b[0m",
            "\u001b[0;31mValueError\u001b[0m                                Traceback (most recent call last)",
            "\u001b[0;32m/tmp/ipython-input-1314506843.py\u001b[0m in \u001b[0;36m<cell line: 0>\u001b[0;34m()\u001b[0m\n\u001b[1;32m      1\u001b[0m \u001b[0;31m# Run the below line after removing # to get an error message. Then put # back on\u001b[0m\u001b[0;34m\u001b[0m\u001b[0;34m\u001b[0m\u001b[0m\n\u001b[0;32m----> 2\u001b[0;31m \u001b[0mmy_func\u001b[0m\u001b[0;34m(\u001b[0m\u001b[0mx_vals\u001b[0m\u001b[0;34m)\u001b[0m\u001b[0;34m\u001b[0m\u001b[0;34m\u001b[0m\u001b[0m\n\u001b[0m",
            "\u001b[0;32m/tmp/ipython-input-2702132815.py\u001b[0m in \u001b[0;36mmy_func\u001b[0;34m(x)\u001b[0m\n\u001b[1;32m      2\u001b[0m \u001b[0;34m\u001b[0m\u001b[0m\n\u001b[1;32m      3\u001b[0m \u001b[0;32mdef\u001b[0m \u001b[0mmy_func\u001b[0m\u001b[0;34m(\u001b[0m\u001b[0mx\u001b[0m\u001b[0;34m)\u001b[0m\u001b[0;34m:\u001b[0m\u001b[0;34m\u001b[0m\u001b[0;34m\u001b[0m\u001b[0m\n\u001b[0;32m----> 4\u001b[0;31m   \u001b[0;32mif\u001b[0m \u001b[0mx\u001b[0m\u001b[0;34m<\u001b[0m\u001b[0;36m0\u001b[0m\u001b[0;34m:\u001b[0m\u001b[0;34m\u001b[0m\u001b[0;34m\u001b[0m\u001b[0m\n\u001b[0m\u001b[1;32m      5\u001b[0m     \u001b[0;32mreturn\u001b[0m \u001b[0mnp\u001b[0m\u001b[0;34m.\u001b[0m\u001b[0mcos\u001b[0m\u001b[0;34m(\u001b[0m\u001b[0mx\u001b[0m\u001b[0;34m)\u001b[0m\u001b[0;34m\u001b[0m\u001b[0;34m\u001b[0m\u001b[0m\n\u001b[1;32m      6\u001b[0m   \u001b[0;32melse\u001b[0m\u001b[0;34m:\u001b[0m\u001b[0;34m\u001b[0m\u001b[0;34m\u001b[0m\u001b[0m\n",
            "\u001b[0;31mValueError\u001b[0m: The truth value of an array with more than one element is ambiguous. Use a.any() or a.all()"
          ]
        }
      ],
      "source": [
        "# Run the below line after removing # to get an error message. Then put # back on\n",
        "# my_func(x_vals)"
      ]
    },
    {
      "cell_type": "markdown",
      "metadata": {
        "id": "z9Y8izW5LlFg"
      },
      "source": [
        "To resolve this error, you can vectorize the function `my_func`. This vectorized function can then be called with an array as its argument. Let us define this vectorized function and plot it."
      ]
    },
    {
      "cell_type": "code",
      "execution_count": 32,
      "metadata": {
        "colab": {
          "base_uri": "https://localhost:8080/",
          "height": 447
        },
        "id": "yOu-wqM-MJMJ",
        "outputId": "70c3ccf6-5488-46cb-a87d-33b3cc2e0ce0"
      },
      "outputs": [
        {
          "output_type": "execute_result",
          "data": {
            "text/plain": [
              "[<matplotlib.lines.Line2D at 0x7dc52aacfd70>]"
            ]
          },
          "metadata": {},
          "execution_count": 32
        },
        {
          "output_type": "display_data",
          "data": {
            "text/plain": [
              "<Figure size 640x480 with 1 Axes>"
            ],
            "image/png": "[encoded data removed]"
          },
          "metadata": {}
        }
      ],
      "source": [
        "funcvec = np.vectorize(my_func)\n",
        "x = np.linspace(-6, 6, 100)\n",
        "y = funcvec(x)\n",
        "plt.plot(x, y)"
      ]
    },
    {
      "cell_type": "markdown",
      "metadata": {
        "id": "A3oTkETDlm3X"
      },
      "source": [
        "## 2.3 Hands-on exercise: Numpy and Matplotlib Basics"
      ]
    },
    {
      "cell_type": "markdown",
      "metadata": {
        "id": "wQEI4cz2Mptb"
      },
      "source": [
        "### Exercise 1\n",
        "Create an array for variable $x$ consisting of 100 values from 0 to 20.\n",
        "\n",
        "Compute $y=\\sin(x)$ and plot $y$ vs. $x$ with a blue line. Next, replace all values of $y$ that are larger than $0.5$ by $0.5$, and all values that are smaller than $−0.75$ by $−0.75$, and plot the modified $y$ values vs. $x$ using a red line on the same graph.\n",
        "\n",
        "**Hint:**\n",
        "You can call `plt.plot()` twice, once before and after modifying the $y$ values. For plotting with a blue line you can use  `plt.plot(x, y, 'b')`. Replace `b` with `r` to plot with a red line.\n",
        "\n",
        "Also check out the official Matplotlib color guide if you want to experiment with colors of your choice!\n",
        "https://matplotlib.org/stable/gallery/color/named_colors.html"
      ]
    },
    {
      "cell_type": "code",
      "execution_count": null,
      "metadata": {
        "id": "643H-BqiNdMM"
      },
      "outputs": [],
      "source": [
        "# \"\"\"\n",
        "# You solution here\n",
        "# \"\"\"\n",
        "# raise NotImplementedError(\"Write your answer here\")\n",
        "# x = np.linspace(0, ..., ...)\n",
        "# y = np.sin(x)\n",
        "# # plot the graph\n",
        "# y[...] = 0.5\n",
        "# y[...] = -0.75\n",
        "# # plot the graph\n",
        "# # ADD FIGURE\n"
      ]
    },
    {
      "cell_type": "markdown",
      "metadata": {
        "id": "s-dOV5Y9lbms"
      },
      "source": [
        "### Exercise 2\n",
        "\n",
        "Given a list of two-dimensional NumPy arrays `array_list` each with the same number of columns, we want to write a function `sort_by_column`that takes as input `array_list`, and vertically stacks the arrays in the `array_list`.\n",
        "\n",
        "This function also sorts in an ascending order the stacked array by the values in column (specified by the specified `column_idx` argument), and returns the indices that would sort the array in ascending order.\n",
        "\n"
      ]
    },
    {
      "cell_type": "code",
      "execution_count": null,
      "metadata": {
        "id": "xJh5d1XHlb87"
      },
      "outputs": [],
      "source": [
        "def sort_by_column(array_list, column_idx, ascending=True):\n",
        "    raise NotImplementedError(\"Write your answer here\")\n",
        "    stacked_array = ...\n",
        "    sorted_indices = np.argsort(stacked_array[:, column_idx])\n",
        "    return stacked_array, sorted_indices\n",
        "\n",
        "array_list = [np.array([[1, 4], [3, 2]]), np.array([[5, 6], [7, 8]])]\n",
        "column_idx = 1\n",
        "stacked_array, sorted_indices = sort_by_column(array_list, column_idx, ascending=False)\n",
        "stacked_array, sorted_indices"
      ]
    },
    {
      "cell_type": "markdown",
      "metadata": {
        "id": "9LVWzA6kqleB"
      },
      "source": [
        "If you code above is correct, you should get the following output\n",
        "\n",
        "\n",
        "```\n",
        "(array([[1, 4],\n",
        "        [3, 2],\n",
        "        [5, 6],\n",
        "        [7, 8]]),\n",
        " array([1, 0, 2, 3]))\n",
        "```\n",
        "\n"
      ]
    },
    {
      "cell_type": "markdown",
      "metadata": {
        "id": "SfoT4R0MP4KI"
      },
      "source": [
        "## Moving Forward\n",
        "\n",
        "It is important to note that both NumPy and Matplotlib offer numerous attractive functionalities. Unfortunatelly, it is not possible to cover all of them in such a short session. But the good news is that only a few functionalties are routinely used for deep learning applications, so you don't really need to learn all of them. In most cases, you will encounter them one at a time while solving any deep learning problem. And finally, remember that you can always use Google (or even ChatGPT) to find a function that best suits your purpose!\n",
        "\n",
        "With the above approach in mind, let us now try to apply the the functions and commands we covered so far by fitting a certain model on a dataset (and possibly learn a couple more in the process). In the next section, we will learn simple linear regression using least squares optimization."
      ]
    },
    {
      "cell_type": "markdown",
      "metadata": {
        "id": "vP60Gz_5txzn"
      },
      "source": [
        "# 3. First Machine Learning Problem: Linear Regression with Least Squares Optimization"
      ]
    },
    {
      "cell_type": "markdown",
      "metadata": {
        "id": "lrMf8DUQuBYM"
      },
      "source": [
        "In this tutorial, we will learn how to fit simple linear models to data.\n",
        "- Learn how to calculate the mean-squared error (MSE)\n",
        "- Explore how model parameters (slope) influence the MSE\n",
        "- Learn how to find the optimal model parameter using least-squares optimization\n",
        "\n",
        "<br>\n",
        "\n",
        "**Acknowledgement:**\n",
        "This section is largely based on the Tutorial on Linear Regression using MSE, offered by the **Neuromatch computational neuroscience course**.\n",
        "https://compneuro.neuromatch.io/tutorials/W1D2_ModelFitting/student/W1D2_Tutorial1.html#\n"
      ]
    },
    {
      "cell_type": "markdown",
      "metadata": {
        "execution": {},
        "id": "vvH2OYVvrxlv"
      },
      "source": [
        "---\n",
        "## Setup"
      ]
    },
    {
      "cell_type": "code",
      "execution_count": null,
      "metadata": {
        "cellView": "both",
        "execution": {},
        "id": "jzcQOIIOrxlv"
      },
      "outputs": [],
      "source": [
        "import numpy as np\n",
        "import matplotlib.pyplot as plt"
      ]
    },
    {
      "cell_type": "code",
      "execution_count": null,
      "metadata": {
        "cellView": "form",
        "execution": {},
        "id": "fNC4WBamrxlv"
      },
      "outputs": [],
      "source": [
        "# @title Figure Settings\n",
        "import logging\n",
        "logging.getLogger('matplotlib.font_manager').disabled = True\n",
        "\n",
        "import ipywidgets as widgets  # interactive display\n",
        "%config InlineBackend.figure_format = 'retina'\n",
        "plt.style.use(\"https://raw.githubusercontent.com/NeuromatchAcademy/course-content/main/nma.mplstyle\")"
      ]
    },
    {
      "cell_type": "code",
      "execution_count": null,
      "metadata": {
        "cellView": "form",
        "execution": {},
        "id": "d0U-7Q_Erxlv"
      },
      "outputs": [],
      "source": [
        "# @title Plotting Functions\n",
        "\n",
        "def plot_observed_vs_predicted(x, y, y_hat, theta_hat):\n",
        "  \"\"\" Plot observed vs predicted data\n",
        "\n",
        "  Args:\n",
        "    x (ndarray): observed x values\n",
        "    y (ndarray): observed y values\n",
        "    y_hat (ndarray): predicted y values\n",
        "    theta_hat (ndarray):\n",
        "  \"\"\"\n",
        "  fig, ax = plt.subplots()\n",
        "  ax.scatter(x, y, label='Observed')  # our data scatter plot\n",
        "  ax.plot(x, y_hat, color='r', label='Fit')  # our estimated model\n",
        "  # plot residuals\n",
        "  ymin = np.minimum(y, y_hat)\n",
        "  ymax = np.maximum(y, y_hat)\n",
        "  ax.vlines(x, ymin, ymax, 'g', alpha=0.5, label='Residuals')\n",
        "  ax.set(\n",
        "      title=fr\"$\\hat{{\\theta}}$ = {theta_hat:0.2f}, MSE = {np.mean((y - y_hat)**2):.2f}\",\n",
        "      xlabel='x',\n",
        "      ylabel='y'\n",
        "  )\n",
        "  ax.legend()\n",
        "  plt.show()"
      ]
    },
    {
      "cell_type": "markdown",
      "metadata": {
        "id": "i4K1yNVAwgjr"
      },
      "source": [
        "## 3.1 Linear Regression and Mean Squared Error (MSE)\n",
        "\n",
        "**Linear least squares regression** is an old but gold  optimization procedure that we are going to use for data fitting. Least squares (LS) optimization problems are those in which the objective function is a quadratic function of the\n",
        "parameter(s) being optimized.\n",
        "\n",
        "Suppose you have a set of measurements: for each data point or measurement, you have $y_{i}$ (the \"dependent\" variable) obtained for a different input value, $x_{i}$ (the \"independent\" or \"explanatory\" variable).  Suppose we believe the measurements are proportional to the input values, but are corrupted by some (random) measurement errors, $\\epsilon_{i}$, that is:\n",
        "\n",
        "\\begin{equation}\n",
        "y_{i}= \\theta x_{i}+\\epsilon_{i}\n",
        "\\end{equation}\n",
        "\n",
        "for some unknown slope parameter $\\theta.$ The least squares regression problem uses **mean squared error (MSE)** as its objective function, it aims to find the value of the parameter $\\theta$ by minimizing the average of squared errors:\n",
        "\n",
        "\\begin{equation}\n",
        "\\min _{\\theta} \\frac{1}{N}\\sum_{i=1}^{N}\\left(y_{i}-\\theta x_{i}\\right)^{2}\n",
        "\\end{equation}\n",
        "\n",
        "</br>\n",
        "\n",
        "**We highly recommend that you check out the following video by Dr. Anqi Wu** </br>\n",
        "https://www.youtube.com/watch?v=HumajfjJ37E"
      ]
    },
    {
      "cell_type": "markdown",
      "metadata": {
        "id": "94qEcDXexZ04"
      },
      "source": [
        "We will now explore how MSE is used in fitting a linear regression model to data. For illustrative purposes, we will create a simple synthetic dataset where we know the true underlying model. This will allow us to see how our estimation efforts compare in uncovering the real model (though in practice we rarely have this luxury).\n",
        "\n",
        "First we will generate some noisy samples $x$ from [0, 10) along the line $y = 1.2x$ as our dataset we wish to fit a model to.\n"
      ]
    },
    {
      "cell_type": "markdown",
      "metadata": {
        "id": "FtK7myvXxezy"
      },
      "source": [
        "Go through the code in the below cell, and execute it to generate some simulated data"
      ]
    },
    {
      "cell_type": "code",
      "execution_count": null,
      "metadata": {
        "id": "AxROp4NXx8H1"
      },
      "outputs": [],
      "source": [
        "# setting a fixed seed to our random number generator ensures we will always\n",
        "# get the same psuedorandom number sequence\n",
        "np.random.seed(121)\n",
        "\n",
        "# Let's set some parameters\n",
        "theta = 1.2\n",
        "n_samples = 30\n",
        "\n",
        "# Draw x and then calculate y\n",
        "x = 10 * np.random.rand(n_samples)  # sample from a uniform distribution over [0,10)\n",
        "noise = np.random.randn(n_samples)  # sample from a standard normal distribution\n",
        "y = theta * x + noise"
      ]
    },
    {
      "cell_type": "markdown",
      "metadata": {
        "id": "D_4POjBQyRwv"
      },
      "source": [
        "Let us plot our simulated data"
      ]
    },
    {
      "cell_type": "code",
      "execution_count": null,
      "metadata": {
        "id": "OymUQVz0yIzG"
      },
      "outputs": [],
      "source": [
        "fig, ax = plt.subplots()\n",
        "ax.scatter(x, y)  # produces a scatter plot\n",
        "ax.set(xlabel='x', ylabel='y');"
      ]
    },
    {
      "cell_type": "markdown",
      "metadata": {
        "id": "t0hkn_tnyeAV"
      },
      "source": [
        "### Hand-On Exercise: Compute MSE\n",
        "\n",
        "In this exercise you will implement a method to compute the mean squared error for a set of inputs $\\mathbf{x}$, measurements $\\mathbf{y}$, and slope estimate $\\hat{\\theta}$. Here, $\\mathbf{x}$ and $\\mathbf{y}$ are vectors of data points. We will then compute and print the mean squared error for 3 different choices of theta.\n",
        "\n",
        "As a reminder, the equation for computing the estimated y for a single data point is:\n",
        "\n",
        "\\begin{equation}\n",
        "\\hat{y}_{i}= \\theta x_{i}\n",
        "\\end{equation}\n",
        "\n",
        "and for mean squared error is:\n",
        "\n",
        "\\begin{equation}\n",
        "\\min _{\\theta} \\frac{1}{N}\\sum_{i=1}^{N}\\left(y_{i}-\\hat{y}_i\\right)^{2}\n",
        "\\end{equation}"
      ]
    },
    {
      "cell_type": "code",
      "execution_count": null,
      "metadata": {
        "id": "rHrqi9g5ypTG"
      },
      "outputs": [],
      "source": [
        "def mse(x, y, theta_hat):\n",
        "  \"\"\"Compute the mean squared error\n",
        "\n",
        "  Args:\n",
        "    x (ndarray): An array of shape (samples,) that contains the input values.\n",
        "    y (ndarray): An array of shape (samples,) that contains the corresponding\n",
        "      measurement values to the inputs.\n",
        "    theta_hat (float): An estimate of the slope parameter\n",
        "\n",
        "  Returns:\n",
        "    float: The mean squared error of the data with the estimated parameter.\n",
        "  \"\"\"\n",
        "  ####################################################\n",
        "  ## TODO for students: compute the mean squared error\n",
        "  # Fill out function and remove\n",
        "  raise NotImplementedError(\"Student exercise: compute the mean squared error\")\n",
        "  ####################################################\n",
        "\n",
        "  # Compute the estimated y\n",
        "  y_hat = ...\n",
        "\n",
        "  # Compute mean squared error\n",
        "  mse = ...\n",
        "\n",
        "  return mse\n",
        "\n",
        "\n",
        "theta_hats = [0.75, 1.0, 1.5]\n",
        "for theta_hat in theta_hats:\n",
        "  print(f\"theta_hat of {theta_hat} has an MSE of {mse(x, y, theta_hat):.2f}\")"
      ]
    },
    {
      "cell_type": "markdown",
      "metadata": {
        "execution": {},
        "id": "dQeG9Gb0rxlw"
      },
      "source": [
        "The result should be:\n",
        "\n",
        "```\n",
        "theta_hat of 0.75 has an MSE of 9.08\n",
        "theta_hat of 1.0 has an MSE of 3.0\n",
        "theta_hat of 1.5 has an MSE of 4.52\n",
        "```\n",
        "\n",
        "\n"
      ]
    },
    {
      "cell_type": "markdown",
      "metadata": {
        "id": "1QvR6-Eny5fi"
      },
      "source": [
        "We see that $\\hat{\\theta} = 1.0$ is our best estimate from the three we tried. Looking just at the raw numbers, however, isn't always satisfying, so let's visualize what our estimated model looks like over the data.\n",
        "\n"
      ]
    },
    {
      "cell_type": "code",
      "execution_count": null,
      "metadata": {
        "id": "n5lVfXfry554"
      },
      "outputs": [],
      "source": [
        "fig, axes = plt.subplots(ncols=3, figsize=(15, 5))\n",
        "for theta_hat, ax in zip(theta_hats, axes):\n",
        "\n",
        "  # True data\n",
        "  ax.scatter(x, y, label='Observed')  # our data scatter plot\n",
        "\n",
        "  # Compute and plot predictions\n",
        "  y_hat = theta_hat * x\n",
        "  ax.plot(x, y_hat, color='r', label='Fit')  # our estimated model\n",
        "\n",
        "  ax.set(\n",
        "      title= fr'$\\hat{{\\theta}}$= {theta_hat}, MSE = {np.mean((y - y_hat)**2):.2f}',\n",
        "      xlabel='x',\n",
        "      ylabel='y'\n",
        "  );\n",
        "\n",
        "axes[0].legend()\n",
        "plt.show()"
      ]
    },
    {
      "cell_type": "markdown",
      "metadata": {
        "execution": {},
        "id": "A1upP_Vzrxlx"
      },
      "source": [
        "### Interactive Exploration of MSE\n",
        "\n",
        "Using an interactive widget, we can easily see how changing our slope estimate changes our model fit. We display the **residuals**, the differences between observed and predicted data, as line segments between the data point (observed response) and the corresponding predicted response on the model fit line.\n",
        "\n",
        "- What value of $\\hat{\\theta}$ results in the lowest MSE?\n",
        "- Is this a good way of estimating $\\theta$?\n"
      ]
    },
    {
      "cell_type": "code",
      "execution_count": null,
      "metadata": {
        "cellView": "form",
        "execution": {},
        "id": "_-PvCwX2rxly"
      },
      "outputs": [],
      "source": [
        "# @markdown Make sure you execute this cell to enable the widget!\n",
        "@widgets.interact(theta_hat=widgets.FloatSlider(1.0, min=0.0, max=2.0))\n",
        "def plot_data_estimate(theta_hat):\n",
        "  y_hat = theta_hat * x\n",
        "  plot_observed_vs_predicted(x, y, y_hat, theta_hat)"
      ]
    },
    {
      "cell_type": "markdown",
      "metadata": {
        "execution": {},
        "id": "cWXOOX0crxly"
      },
      "source": [
        "While visually exploring several estimates can be instructive, it's not the most efficient for finding the best estimate to fit our data. Another technique we can use is to choose a reasonable range of parameter values and compute the MSE at several values in that interval. This allows us to plot the error against the parameter value (this is also called an **error landscape**, especially when we deal with more than one parameter). We can select the final $\\hat{\\theta}$  ($\\hat{\\theta}_\\textrm{MSE}$) as the one which results in the lowest error."
      ]
    },
    {
      "cell_type": "markdown",
      "metadata": {
        "id": "XGp3I0py0P3J"
      },
      "source": [
        "Execute the cell below to loop over theta_hats, compute MSE, and plot *results*"
      ]
    },
    {
      "cell_type": "code",
      "execution_count": null,
      "metadata": {
        "execution": {},
        "id": "QY5uAVilrxly"
      },
      "outputs": [],
      "source": [
        "# Loop over different thetas, compute MSE for each\n",
        "theta_hat_grid = np.linspace(-2.0, 4.0)\n",
        "errors = np.zeros(len(theta_hat_grid))\n",
        "for i, theta_hat in enumerate(theta_hat_grid):\n",
        "  errors[i] = mse(x, y, theta_hat)\n",
        "\n",
        "# Find theta that results in lowest error\n",
        "best_error = np.min(errors)\n",
        "theta_hat = theta_hat_grid[np.argmin(errors)]\n",
        "\n",
        "\n",
        "# Plot results\n",
        "fig, ax = plt.subplots()\n",
        "ax.plot(theta_hat_grid, errors, '-o', label='MSE', c='C1')\n",
        "ax.axvline(theta, color='g', ls='--', label=r\"$\\theta_{True}$\")\n",
        "ax.axvline(theta_hat, color='r', ls='-', label=r\"$\\hat{{\\theta}}_{MSE}$\")\n",
        "ax.set(\n",
        "  title=fr\"Best fit: $\\hat{{\\theta}}$ = {theta_hat:.2f}, MSE = {best_error:.2f}\",\n",
        "  xlabel=r\"$\\hat{{\\theta}}$\",\n",
        "  ylabel='MSE')\n",
        "ax.legend()\n",
        "plt.show()"
      ]
    },
    {
      "cell_type": "markdown",
      "metadata": {
        "execution": {},
        "id": "xQau94QOrxly"
      },
      "source": [
        "---\n",
        "## 3.2 Least-squares optimization\n",
        "\n",
        "While the approach detailed above (computing MSE at various values of $\\hat\\theta$) quickly got us to a good estimate, it still relied on evaluating the MSE value across a grid of hand-specified values. If we didn't pick a good range to begin with, or with enough granularity, we might miss the best possible estimator. Let's go one step further, and instead of finding the minimum MSE from a set of candidate estimates, let's solve for it analytically.\n",
        "\n",
        "We can do this by minimizing the cost function. Mean squared error is a convex objective function, therefore we can compute its minimum using calculus. Please see video or Bonus Section 1 for this derivation! After computing the minimum, we find that:\n",
        "\n",
        "\\begin{equation}\n",
        "\\hat\\theta = \\frac{\\mathbf{x}^\\top \\mathbf{y}}{\\mathbf{x}^\\top \\mathbf{x}}\n",
        "\\end{equation}\n",
        "\n",
        "where $\\mathbf{x}$ and $\\mathbf{y}$ are vectors of data points.\n",
        "\n",
        "This is known as solving the normal equations. For different ways of obtaining the solution, see the notes on [Least Squares Optimization](https://www.cns.nyu.edu/~eero/NOTES/leastSquares.pdf) by Eero Simoncelli."
      ]
    },
    {
      "cell_type": "markdown",
      "metadata": {
        "execution": {},
        "id": "kQQgtByFrxly"
      },
      "source": [
        "### Hands-On Exercise: Solve for the Optimal Estimator\n",
        "\n",
        "In this exercise, you will write a function that finds the optimal $\\hat{\\theta}$ value using the least squares optimization approach (the equation above) to solve MSE minimization. It should take arguments $x$ and $y$ and return the solution $\\hat{\\theta}$.\n",
        "\n",
        "We will then use your function to compute $\\hat{\\theta}$ and plot the resulting prediction on top of the data."
      ]
    },
    {
      "cell_type": "code",
      "execution_count": null,
      "metadata": {
        "execution": {},
        "id": "9mOWcEk9rxly"
      },
      "outputs": [],
      "source": [
        "def solve_normal_eqn(x, y):\n",
        "  \"\"\"Solve the normal equations to produce the value of theta_hat that minimizes\n",
        "    MSE.\n",
        "\n",
        "    Args:\n",
        "    x (ndarray): An array of shape (samples,) that contains the input values.\n",
        "    y (ndarray): An array of shape (samples,) that contains the corresponding\n",
        "      measurement values to the inputs.\n",
        "\n",
        "  Returns:\n",
        "    float: the value for theta_hat arrived from minimizing MSE\n",
        "  \"\"\"\n",
        "\n",
        "  ################################################################################\n",
        "  ## TODO for students: solve for the best parameter using least squares\n",
        "  # Fill out function and remove\n",
        "  raise NotImplementedError(\"Student exercise: solve for theta_hat using least squares\")\n",
        "  ################################################################################\n",
        "\n",
        "  # Compute theta_hat analytically\n",
        "  theta_hat = ...\n",
        "\n",
        "  return theta_hat\n",
        "\n",
        "\n",
        "theta_hat = solve_normal_eqn(x, y)\n",
        "y_hat = theta_hat * x\n",
        "plot_observed_vs_predicted(x, y, y_hat, theta_hat)"
      ]
    },
    {
      "cell_type": "markdown",
      "metadata": {
        "execution": {},
        "id": "hgpH2OWYrxly"
      },
      "source": [
        "We see that the analytic solution produces an even better result than our grid search from before, producing $\\hat{\\theta} = 1.21$ with $\\text{MSE} = 1.43$!"
      ]
    },
    {
      "cell_type": "markdown",
      "metadata": {
        "execution": {},
        "id": "n0DRXRx4rxly"
      },
      "source": [
        "---\n",
        "## Summary\n",
        "\n",
        "Linear least squares regression is an optimization procedure that can be used for data fitting:\n",
        "\n",
        "  - Task: predict a value for $y_i$ given $x_i$\n",
        "  - Performance measure: $\\textrm{MSE}$\n",
        "  - Procedure: minimize $\\textrm{MSE}$ by solving the normal equations\n",
        "\n",
        "**Key point**: We fit the model by defining an *objective function* and minimizing it.\n",
        "\n",
        "**Note**: In this case, there is an *analytical* solution to the minimization problem and in practice, this solution can be computed using *linear algebra*. This is *extremely* powerful and forms the basis for much of numerical computation throughout the sciences."
      ]
    },
    {
      "cell_type": "markdown",
      "metadata": {
        "execution": {},
        "id": "ki56hlUSrxly"
      },
      "source": [
        "---\n",
        "### Notation\n",
        "\n",
        "\\begin{align}\n",
        "x_{i} &\\quad \\text{input, independent variable}\\\\\n",
        "y_{i} &\\quad \\text{measurement, dependent variable}\\\\\n",
        "\\mathbf{x} &\\quad \\text{vector of input values}\\\\\n",
        "\\mathbf{y} &\\quad \\text{vector of measurements}\\\\\n",
        "\\hat{y}_{i} &\\quad \\text{estimate of dependent variable}\\\\\n",
        "\\epsilon_{i} &\\quad \\text{measurement error}\\\\\n",
        "\\theta &\\quad \\text{slope parameter}\\\\\n",
        "\\hat{\\theta} &\\quad \\text{estimated slope parameter}\\\\\n",
        "\\hat{\\theta}_\\text{MSE} &\\quad \\text{slope parameter estimated via the mean squared error}\\\\\n",
        "\\textrm{MSE} &\\quad \\text{mean squared error}\\\\\n",
        "\\end{align}"
      ]
    },
    {
      "cell_type": "markdown",
      "metadata": {
        "execution": {},
        "id": "2K1f1g-Erxlz"
      },
      "source": [
        "### Bonus Section: Least Squares Optimization Derivation\n",
        "\n",
        "We will outline here the derivation of the least squares solution.\n",
        "\n",
        "We first set the derivative of the error expression with respect to $\\theta$ equal to zero,\n",
        "\n",
        "\\begin{align}\n",
        "\\frac{d}{d\\theta}\\frac{1}{N}\\sum_{i=1}^N(y_i - \\theta x_i)^2 &= 0 \\\\\n",
        "\\frac{1}{N}\\sum_{i=1}^N-2x_i(y_i - \\theta x_i) &= 0\n",
        "\\end{align}\n",
        "\n",
        "where we used the chain rule. Now solving for $\\theta$, we obtain an optimal value of:\n",
        "\n",
        "\\begin{equation}\n",
        "\\hat\\theta = \\frac{\\sum_{i=1}^N x_i y_i}{\\sum_{i=1}^N x_i^2}\n",
        "\\end{equation}\n",
        "\n",
        "Which we can write in vector notation as:\n",
        "\n",
        "\\begin{equation}\n",
        "\\hat\\theta = \\frac{\\mathbf{x}^\\top \\mathbf{y}}{\\mathbf{x}^\\top \\mathbf{x}}\n",
        "\\end{equation}\n",
        "\n",
        "<br>\n",
        "\n",
        "This is known as solving the *normal equations*. For different ways of obtaining the solution, see the notes on [Least Squares Optimization](https://www.cns.nyu.edu/~eero/NOTES/leastSquares.pdf) by Eero Simoncelli."
      ]
    },
    {
      "cell_type": "markdown",
      "metadata": {
        "execution": {},
        "id": "98WBPr1lrxly"
      },
      "source": [
        "We can see that our best fit is $\\hat{\\theta}=1.18$ with an MSE of 1.45. This is quite close to the original true value $\\theta=1.2$!\n"
      ]
    },
    {
      "cell_type": "markdown",
      "metadata": {
        "id": "0ZkwJ9O6bLhV"
      },
      "source": [
        "# Resources\n",
        "\n",
        "For Python and NumPy basics:\n",
        "\n",
        "* **Google's Python Class** https://developers.google.com/edu/python\n",
        "\n",
        "* **Exploratory computing with Python**, by\n",
        "Mark Bakker, Delft University of Technology https://mbakker7.github.io/exploratory_computing_with_python/\n",
        "\n",
        "* **Official Python documentation** https://docs.python.org/3/\n",
        "\n",
        "For linear regression:\n",
        "\n",
        "* **Linear regression with MSE** by Neuromatch Academy https://compneuro.neuromatch.io/tutorials/W1D2_ModelFitting/student/W1D2_Tutorial1.html#"
      ]
    }
  ],
  "metadata": {
    "colab": {
      "collapsed_sections": [
        "NeCqaRQ1o-uT",
        "sHgrDxyo5ag_",
        "-SlP8dNr6h6e",
        "4x0Cihde6Wik",
        "g6JfT9DvhsUJ"
      ],
      "provenance": [],
      "toc_visible": true
    },
    "kernelspec": {
      "display_name": "builder_dev",
      "language": "python",
      "name": "python3"
    },
    "language_info": {
      "codemirror_mode": {
        "name": "ipython",
        "version": 3
      },
      "file_extension": ".py",
      "mimetype": "text/x-python",
      "name": "python",
      "nbconvert_exporter": "python",
      "pygments_lexer": "ipython3",
      "version": "3.10.8"
    }
  },
  "nbformat": 4,
  "nbformat_minor": 0
}